{
 "cells": [
  {
   "cell_type": "markdown",
   "metadata": {},
   "source": [
    "# <center> Разбор кейса ML-инженера"
   ]
  },
  {
   "cell_type": "markdown",
   "metadata": {
    "id": "Zf52Pxm2hiom"
   },
   "source": [
    "## Обучим и протестируем модель"
   ]
  },
  {
   "cell_type": "code",
   "metadata": {
    "colab": {
     "base_uri": "https://localhost:8080/"
    },
    "id": "wEgni61ptDR7",
    "outputId": "4d9d62cf-6edf-4003-895e-3c833a2b5518",
    "ExecuteTime": {
     "end_time": "2025-08-31T10:43:48.554061Z",
     "start_time": "2025-08-31T10:43:31.012396Z"
    }
   },
   "source": [
    "!pip install lightfm\n",
    "! pip install pandas\n",
    "! pip install numpy\n",
    "! pip install scipy\n",
    "! pip install pickle\n"
   ],
   "outputs": [
    {
     "name": "stdout",
     "output_type": "stream",
     "text": [
      "Collecting lightfm\r\n",
      "  Using cached lightfm-1.17-cp311-cp311-macosx_10_9_universal2.whl\r\n",
      "Collecting numpy (from lightfm)\r\n",
      "  Using cached numpy-2.3.2-cp311-cp311-macosx_14_0_arm64.whl.metadata (62 kB)\r\n",
      "Collecting scipy>=0.17.0 (from lightfm)\r\n",
      "  Using cached scipy-1.16.1-cp311-cp311-macosx_14_0_arm64.whl.metadata (61 kB)\r\n",
      "Requirement already satisfied: requests in ./.venv/lib/python3.11/site-packages (from lightfm) (2.32.5)\r\n",
      "Collecting scikit-learn (from lightfm)\r\n",
      "  Using cached scikit_learn-1.7.1-cp311-cp311-macosx_12_0_arm64.whl.metadata (11 kB)\r\n",
      "Requirement already satisfied: charset_normalizer<4,>=2 in ./.venv/lib/python3.11/site-packages (from requests->lightfm) (3.4.3)\r\n",
      "Requirement already satisfied: idna<4,>=2.5 in ./.venv/lib/python3.11/site-packages (from requests->lightfm) (3.10)\r\n",
      "Requirement already satisfied: urllib3<3,>=1.21.1 in ./.venv/lib/python3.11/site-packages (from requests->lightfm) (2.5.0)\r\n",
      "Requirement already satisfied: certifi>=2017.4.17 in ./.venv/lib/python3.11/site-packages (from requests->lightfm) (2025.8.3)\r\n",
      "Collecting joblib>=1.2.0 (from scikit-learn->lightfm)\r\n",
      "  Using cached joblib-1.5.2-py3-none-any.whl.metadata (5.6 kB)\r\n",
      "Collecting threadpoolctl>=3.1.0 (from scikit-learn->lightfm)\r\n",
      "  Using cached threadpoolctl-3.6.0-py3-none-any.whl.metadata (13 kB)\r\n",
      "Using cached scipy-1.16.1-cp311-cp311-macosx_14_0_arm64.whl (20.9 MB)\r\n",
      "Using cached numpy-2.3.2-cp311-cp311-macosx_14_0_arm64.whl (5.4 MB)\r\n",
      "Using cached scikit_learn-1.7.1-cp311-cp311-macosx_12_0_arm64.whl (8.7 MB)\r\n",
      "Using cached joblib-1.5.2-py3-none-any.whl (308 kB)\r\n",
      "Using cached threadpoolctl-3.6.0-py3-none-any.whl (18 kB)\r\n",
      "Installing collected packages: threadpoolctl, numpy, joblib, scipy, scikit-learn, lightfm\r\n",
      "Successfully installed joblib-1.5.2 lightfm-1.17 numpy-2.3.2 scikit-learn-1.7.1 scipy-1.16.1 threadpoolctl-3.6.0\r\n",
      "\r\n",
      "\u001B[1m[\u001B[0m\u001B[34;49mnotice\u001B[0m\u001B[1;39;49m]\u001B[0m\u001B[39;49m A new release of pip is available: \u001B[0m\u001B[31;49m25.0.1\u001B[0m\u001B[39;49m -> \u001B[0m\u001B[32;49m25.2\u001B[0m\r\n",
      "\u001B[1m[\u001B[0m\u001B[34;49mnotice\u001B[0m\u001B[1;39;49m]\u001B[0m\u001B[39;49m To update, run: \u001B[0m\u001B[32;49mpip install --upgrade pip\u001B[0m\r\n",
      "Collecting pandas\r\n",
      "  Using cached pandas-2.3.2-cp311-cp311-macosx_11_0_arm64.whl.metadata (91 kB)\r\n",
      "Requirement already satisfied: numpy>=1.23.2 in ./.venv/lib/python3.11/site-packages (from pandas) (2.3.2)\r\n",
      "Requirement already satisfied: python-dateutil>=2.8.2 in ./.venv/lib/python3.11/site-packages (from pandas) (2.9.0.post0)\r\n",
      "Collecting pytz>=2020.1 (from pandas)\r\n",
      "  Using cached pytz-2025.2-py2.py3-none-any.whl.metadata (22 kB)\r\n",
      "Collecting tzdata>=2022.7 (from pandas)\r\n",
      "  Using cached tzdata-2025.2-py2.py3-none-any.whl.metadata (1.4 kB)\r\n",
      "Requirement already satisfied: six>=1.5 in ./.venv/lib/python3.11/site-packages (from python-dateutil>=2.8.2->pandas) (1.17.0)\r\n",
      "Using cached pandas-2.3.2-cp311-cp311-macosx_11_0_arm64.whl (10.8 MB)\r\n",
      "Using cached pytz-2025.2-py2.py3-none-any.whl (509 kB)\r\n",
      "Using cached tzdata-2025.2-py2.py3-none-any.whl (347 kB)\r\n",
      "Installing collected packages: pytz, tzdata, pandas\r\n",
      "Successfully installed pandas-2.3.2 pytz-2025.2 tzdata-2025.2\r\n",
      "\r\n",
      "\u001B[1m[\u001B[0m\u001B[34;49mnotice\u001B[0m\u001B[1;39;49m]\u001B[0m\u001B[39;49m A new release of pip is available: \u001B[0m\u001B[31;49m25.0.1\u001B[0m\u001B[39;49m -> \u001B[0m\u001B[32;49m25.2\u001B[0m\r\n",
      "\u001B[1m[\u001B[0m\u001B[34;49mnotice\u001B[0m\u001B[1;39;49m]\u001B[0m\u001B[39;49m To update, run: \u001B[0m\u001B[32;49mpip install --upgrade pip\u001B[0m\r\n",
      "Requirement already satisfied: numpy in ./.venv/lib/python3.11/site-packages (2.3.2)\r\n",
      "\r\n",
      "\u001B[1m[\u001B[0m\u001B[34;49mnotice\u001B[0m\u001B[1;39;49m]\u001B[0m\u001B[39;49m A new release of pip is available: \u001B[0m\u001B[31;49m25.0.1\u001B[0m\u001B[39;49m -> \u001B[0m\u001B[32;49m25.2\u001B[0m\r\n",
      "\u001B[1m[\u001B[0m\u001B[34;49mnotice\u001B[0m\u001B[1;39;49m]\u001B[0m\u001B[39;49m To update, run: \u001B[0m\u001B[32;49mpip install --upgrade pip\u001B[0m\r\n",
      "Requirement already satisfied: scipy in ./.venv/lib/python3.11/site-packages (1.16.1)\r\n",
      "Requirement already satisfied: numpy<2.6,>=1.25.2 in ./.venv/lib/python3.11/site-packages (from scipy) (2.3.2)\r\n",
      "\r\n",
      "\u001B[1m[\u001B[0m\u001B[34;49mnotice\u001B[0m\u001B[1;39;49m]\u001B[0m\u001B[39;49m A new release of pip is available: \u001B[0m\u001B[31;49m25.0.1\u001B[0m\u001B[39;49m -> \u001B[0m\u001B[32;49m25.2\u001B[0m\r\n",
      "\u001B[1m[\u001B[0m\u001B[34;49mnotice\u001B[0m\u001B[1;39;49m]\u001B[0m\u001B[39;49m To update, run: \u001B[0m\u001B[32;49mpip install --upgrade pip\u001B[0m\r\n",
      "\u001B[31mERROR: Could not find a version that satisfies the requirement pickle (from versions: none)\u001B[0m\u001B[31m\r\n",
      "\u001B[0m\r\n",
      "\u001B[1m[\u001B[0m\u001B[34;49mnotice\u001B[0m\u001B[1;39;49m]\u001B[0m\u001B[39;49m A new release of pip is available: \u001B[0m\u001B[31;49m25.0.1\u001B[0m\u001B[39;49m -> \u001B[0m\u001B[32;49m25.2\u001B[0m\r\n",
      "\u001B[1m[\u001B[0m\u001B[34;49mnotice\u001B[0m\u001B[1;39;49m]\u001B[0m\u001B[39;49m To update, run: \u001B[0m\u001B[32;49mpip install --upgrade pip\u001B[0m\r\n",
      "\u001B[31mERROR: No matching distribution found for pickle\u001B[0m\u001B[31m\r\n",
      "\u001B[0m"
     ]
    }
   ],
   "execution_count": 1
  },
  {
   "cell_type": "code",
   "metadata": {
    "id": "O3C_SMz6hiot",
    "ExecuteTime": {
     "end_time": "2025-08-31T10:44:00.876229Z",
     "start_time": "2025-08-31T10:43:52.580126Z"
    }
   },
   "source": [
    "import numpy as np\n",
    "import pandas as pd\n",
    "import scipy.sparse as sparse\n",
    "from lightfm import LightFM\n",
    "from lightfm.cross_validation import random_train_test_split\n",
    "from lightfm.evaluation import precision_at_k, recall_at_k\n",
    "import pickle"
   ],
   "outputs": [
    {
     "name": "stderr",
     "output_type": "stream",
     "text": [
      "/Users/semendushin/Desktop/тесты мл/.venv/lib/python3.11/site-packages/lightfm/_lightfm_fast.py:9: UserWarning: LightFM was compiled without OpenMP support. Only a single thread will be used.\n",
      "  warnings.warn(\n"
     ]
    }
   ],
   "execution_count": 2
  },
  {
   "cell_type": "code",
   "metadata": {
    "colab": {
     "base_uri": "https://localhost:8080/",
     "height": 380
    },
    "id": "qfCOflZnhiou",
    "outputId": "aa55bacd-ccab-45c0-e483-ef59d2698d94",
    "ExecuteTime": {
     "end_time": "2025-08-31T10:44:52.089090Z",
     "start_time": "2025-08-31T10:44:51.388691Z"
    }
   },
   "source": [
    "ratings = pd.read_csv('data/ratings.csv')\n",
    "books = pd.read_csv('data/books.csv')\n",
    "tags = pd.read_csv('data/tags.csv')\n",
    "book_tags = pd.read_csv('data/book_tags.csv')"
   ],
   "outputs": [],
   "execution_count": 7
  },
  {
   "cell_type": "code",
   "metadata": {
    "id": "u1TBykVuhiov",
    "ExecuteTime": {
     "end_time": "2025-08-31T10:44:53.181684Z",
     "start_time": "2025-08-31T10:44:53.159019Z"
    }
   },
   "source": [
    "books.head()"
   ],
   "outputs": [
    {
     "data": {
      "text/plain": [
       "   book_id  goodreads_book_id  best_book_id  work_id  books_count       isbn  \\\n",
       "0        1            2767052       2767052  2792775          272  439023483   \n",
       "1        2                  3             3  4640799          491  439554934   \n",
       "2        3              41865         41865  3212258          226  316015849   \n",
       "3        4               2657          2657  3275794          487   61120081   \n",
       "4        5               4671          4671   245494         1356  743273567   \n",
       "\n",
       "         isbn13                      authors  original_publication_year  \\\n",
       "0  9.780439e+12              Suzanne Collins                     2008.0   \n",
       "1  9.780440e+12  J.K. Rowling, Mary GrandPré                     1997.0   \n",
       "2  9.780316e+12              Stephenie Meyer                     2005.0   \n",
       "3  9.780061e+12                   Harper Lee                     1960.0   \n",
       "4  9.780743e+12          F. Scott Fitzgerald                     1925.0   \n",
       "\n",
       "                             original_title  ... ratings_count  \\\n",
       "0                          The Hunger Games  ...       4780653   \n",
       "1  Harry Potter and the Philosopher's Stone  ...       4602479   \n",
       "2                                  Twilight  ...       3866839   \n",
       "3                     To Kill a Mockingbird  ...       3198671   \n",
       "4                          The Great Gatsby  ...       2683664   \n",
       "\n",
       "  work_ratings_count  work_text_reviews_count  ratings_1  ratings_2  \\\n",
       "0            4942365                   155254      66715     127936   \n",
       "1            4800065                    75867      75504     101676   \n",
       "2            3916824                    95009     456191     436802   \n",
       "3            3340896                    72586      60427     117415   \n",
       "4            2773745                    51992      86236     197621   \n",
       "\n",
       "   ratings_3  ratings_4  ratings_5  \\\n",
       "0     560092    1481305    2706317   \n",
       "1     455024    1156318    3011543   \n",
       "2     793319     875073    1355439   \n",
       "3     446835    1001952    1714267   \n",
       "4     606158     936012     947718   \n",
       "\n",
       "                                           image_url  \\\n",
       "0  https://images.gr-assets.com/books/1447303603m...   \n",
       "1  https://images.gr-assets.com/books/1474154022m...   \n",
       "2  https://images.gr-assets.com/books/1361039443m...   \n",
       "3  https://images.gr-assets.com/books/1361975680m...   \n",
       "4  https://images.gr-assets.com/books/1490528560m...   \n",
       "\n",
       "                                     small_image_url  \n",
       "0  https://images.gr-assets.com/books/1447303603s...  \n",
       "1  https://images.gr-assets.com/books/1474154022s...  \n",
       "2  https://images.gr-assets.com/books/1361039443s...  \n",
       "3  https://images.gr-assets.com/books/1361975680s...  \n",
       "4  https://images.gr-assets.com/books/1490528560s...  \n",
       "\n",
       "[5 rows x 23 columns]"
      ],
      "text/html": [
       "<div>\n",
       "<style scoped>\n",
       "    .dataframe tbody tr th:only-of-type {\n",
       "        vertical-align: middle;\n",
       "    }\n",
       "\n",
       "    .dataframe tbody tr th {\n",
       "        vertical-align: top;\n",
       "    }\n",
       "\n",
       "    .dataframe thead th {\n",
       "        text-align: right;\n",
       "    }\n",
       "</style>\n",
       "<table border=\"1\" class=\"dataframe\">\n",
       "  <thead>\n",
       "    <tr style=\"text-align: right;\">\n",
       "      <th></th>\n",
       "      <th>book_id</th>\n",
       "      <th>goodreads_book_id</th>\n",
       "      <th>best_book_id</th>\n",
       "      <th>work_id</th>\n",
       "      <th>books_count</th>\n",
       "      <th>isbn</th>\n",
       "      <th>isbn13</th>\n",
       "      <th>authors</th>\n",
       "      <th>original_publication_year</th>\n",
       "      <th>original_title</th>\n",
       "      <th>...</th>\n",
       "      <th>ratings_count</th>\n",
       "      <th>work_ratings_count</th>\n",
       "      <th>work_text_reviews_count</th>\n",
       "      <th>ratings_1</th>\n",
       "      <th>ratings_2</th>\n",
       "      <th>ratings_3</th>\n",
       "      <th>ratings_4</th>\n",
       "      <th>ratings_5</th>\n",
       "      <th>image_url</th>\n",
       "      <th>small_image_url</th>\n",
       "    </tr>\n",
       "  </thead>\n",
       "  <tbody>\n",
       "    <tr>\n",
       "      <th>0</th>\n",
       "      <td>1</td>\n",
       "      <td>2767052</td>\n",
       "      <td>2767052</td>\n",
       "      <td>2792775</td>\n",
       "      <td>272</td>\n",
       "      <td>439023483</td>\n",
       "      <td>9.780439e+12</td>\n",
       "      <td>Suzanne Collins</td>\n",
       "      <td>2008.0</td>\n",
       "      <td>The Hunger Games</td>\n",
       "      <td>...</td>\n",
       "      <td>4780653</td>\n",
       "      <td>4942365</td>\n",
       "      <td>155254</td>\n",
       "      <td>66715</td>\n",
       "      <td>127936</td>\n",
       "      <td>560092</td>\n",
       "      <td>1481305</td>\n",
       "      <td>2706317</td>\n",
       "      <td>https://images.gr-assets.com/books/1447303603m...</td>\n",
       "      <td>https://images.gr-assets.com/books/1447303603s...</td>\n",
       "    </tr>\n",
       "    <tr>\n",
       "      <th>1</th>\n",
       "      <td>2</td>\n",
       "      <td>3</td>\n",
       "      <td>3</td>\n",
       "      <td>4640799</td>\n",
       "      <td>491</td>\n",
       "      <td>439554934</td>\n",
       "      <td>9.780440e+12</td>\n",
       "      <td>J.K. Rowling, Mary GrandPré</td>\n",
       "      <td>1997.0</td>\n",
       "      <td>Harry Potter and the Philosopher's Stone</td>\n",
       "      <td>...</td>\n",
       "      <td>4602479</td>\n",
       "      <td>4800065</td>\n",
       "      <td>75867</td>\n",
       "      <td>75504</td>\n",
       "      <td>101676</td>\n",
       "      <td>455024</td>\n",
       "      <td>1156318</td>\n",
       "      <td>3011543</td>\n",
       "      <td>https://images.gr-assets.com/books/1474154022m...</td>\n",
       "      <td>https://images.gr-assets.com/books/1474154022s...</td>\n",
       "    </tr>\n",
       "    <tr>\n",
       "      <th>2</th>\n",
       "      <td>3</td>\n",
       "      <td>41865</td>\n",
       "      <td>41865</td>\n",
       "      <td>3212258</td>\n",
       "      <td>226</td>\n",
       "      <td>316015849</td>\n",
       "      <td>9.780316e+12</td>\n",
       "      <td>Stephenie Meyer</td>\n",
       "      <td>2005.0</td>\n",
       "      <td>Twilight</td>\n",
       "      <td>...</td>\n",
       "      <td>3866839</td>\n",
       "      <td>3916824</td>\n",
       "      <td>95009</td>\n",
       "      <td>456191</td>\n",
       "      <td>436802</td>\n",
       "      <td>793319</td>\n",
       "      <td>875073</td>\n",
       "      <td>1355439</td>\n",
       "      <td>https://images.gr-assets.com/books/1361039443m...</td>\n",
       "      <td>https://images.gr-assets.com/books/1361039443s...</td>\n",
       "    </tr>\n",
       "    <tr>\n",
       "      <th>3</th>\n",
       "      <td>4</td>\n",
       "      <td>2657</td>\n",
       "      <td>2657</td>\n",
       "      <td>3275794</td>\n",
       "      <td>487</td>\n",
       "      <td>61120081</td>\n",
       "      <td>9.780061e+12</td>\n",
       "      <td>Harper Lee</td>\n",
       "      <td>1960.0</td>\n",
       "      <td>To Kill a Mockingbird</td>\n",
       "      <td>...</td>\n",
       "      <td>3198671</td>\n",
       "      <td>3340896</td>\n",
       "      <td>72586</td>\n",
       "      <td>60427</td>\n",
       "      <td>117415</td>\n",
       "      <td>446835</td>\n",
       "      <td>1001952</td>\n",
       "      <td>1714267</td>\n",
       "      <td>https://images.gr-assets.com/books/1361975680m...</td>\n",
       "      <td>https://images.gr-assets.com/books/1361975680s...</td>\n",
       "    </tr>\n",
       "    <tr>\n",
       "      <th>4</th>\n",
       "      <td>5</td>\n",
       "      <td>4671</td>\n",
       "      <td>4671</td>\n",
       "      <td>245494</td>\n",
       "      <td>1356</td>\n",
       "      <td>743273567</td>\n",
       "      <td>9.780743e+12</td>\n",
       "      <td>F. Scott Fitzgerald</td>\n",
       "      <td>1925.0</td>\n",
       "      <td>The Great Gatsby</td>\n",
       "      <td>...</td>\n",
       "      <td>2683664</td>\n",
       "      <td>2773745</td>\n",
       "      <td>51992</td>\n",
       "      <td>86236</td>\n",
       "      <td>197621</td>\n",
       "      <td>606158</td>\n",
       "      <td>936012</td>\n",
       "      <td>947718</td>\n",
       "      <td>https://images.gr-assets.com/books/1490528560m...</td>\n",
       "      <td>https://images.gr-assets.com/books/1490528560s...</td>\n",
       "    </tr>\n",
       "  </tbody>\n",
       "</table>\n",
       "<p>5 rows × 23 columns</p>\n",
       "</div>"
      ]
     },
     "execution_count": 8,
     "metadata": {},
     "output_type": "execute_result"
    }
   ],
   "execution_count": 8
  },
  {
   "cell_type": "code",
   "metadata": {
    "id": "WVIwztA5hiov",
    "ExecuteTime": {
     "end_time": "2025-08-31T10:44:55.068324Z",
     "start_time": "2025-08-31T10:44:55.055885Z"
    }
   },
   "source": [
    "mapper = dict(zip(books.goodreads_book_id,books.book_id))"
   ],
   "outputs": [],
   "execution_count": 9
  },
  {
   "cell_type": "code",
   "metadata": {
    "id": "CxVDaPkKhiow",
    "ExecuteTime": {
     "end_time": "2025-08-31T10:44:56.305661Z",
     "start_time": "2025-08-31T10:44:56.203929Z"
    }
   },
   "source": [
    "tags = pd.read_csv('data/tags_cleaned.csv')\n",
    "book_tags = book_tags[book_tags.tag_id.isin(tags.tag_id)]\n",
    "book_tags['id'] = book_tags.goodreads_book_id.apply(lambda x: mapper[x])"
   ],
   "outputs": [],
   "execution_count": 10
  },
  {
   "cell_type": "code",
   "metadata": {
    "id": "wd_WvCLDhiow",
    "ExecuteTime": {
     "end_time": "2025-08-31T10:44:57.765167Z",
     "start_time": "2025-08-31T10:44:57.751762Z"
    }
   },
   "source": [
    "book_tags.head()"
   ],
   "outputs": [
    {
     "data": {
      "text/plain": [
       "    goodreads_book_id  tag_id  count  id\n",
       "1                   1   11305  37174  27\n",
       "4                   1   33114  12716  27\n",
       "5                   1   11743   9954  27\n",
       "6                   1   14017   7169  27\n",
       "10                  1   27199   3857  27"
      ],
      "text/html": [
       "<div>\n",
       "<style scoped>\n",
       "    .dataframe tbody tr th:only-of-type {\n",
       "        vertical-align: middle;\n",
       "    }\n",
       "\n",
       "    .dataframe tbody tr th {\n",
       "        vertical-align: top;\n",
       "    }\n",
       "\n",
       "    .dataframe thead th {\n",
       "        text-align: right;\n",
       "    }\n",
       "</style>\n",
       "<table border=\"1\" class=\"dataframe\">\n",
       "  <thead>\n",
       "    <tr style=\"text-align: right;\">\n",
       "      <th></th>\n",
       "      <th>goodreads_book_id</th>\n",
       "      <th>tag_id</th>\n",
       "      <th>count</th>\n",
       "      <th>id</th>\n",
       "    </tr>\n",
       "  </thead>\n",
       "  <tbody>\n",
       "    <tr>\n",
       "      <th>1</th>\n",
       "      <td>1</td>\n",
       "      <td>11305</td>\n",
       "      <td>37174</td>\n",
       "      <td>27</td>\n",
       "    </tr>\n",
       "    <tr>\n",
       "      <th>4</th>\n",
       "      <td>1</td>\n",
       "      <td>33114</td>\n",
       "      <td>12716</td>\n",
       "      <td>27</td>\n",
       "    </tr>\n",
       "    <tr>\n",
       "      <th>5</th>\n",
       "      <td>1</td>\n",
       "      <td>11743</td>\n",
       "      <td>9954</td>\n",
       "      <td>27</td>\n",
       "    </tr>\n",
       "    <tr>\n",
       "      <th>6</th>\n",
       "      <td>1</td>\n",
       "      <td>14017</td>\n",
       "      <td>7169</td>\n",
       "      <td>27</td>\n",
       "    </tr>\n",
       "    <tr>\n",
       "      <th>10</th>\n",
       "      <td>1</td>\n",
       "      <td>27199</td>\n",
       "      <td>3857</td>\n",
       "      <td>27</td>\n",
       "    </tr>\n",
       "  </tbody>\n",
       "</table>\n",
       "</div>"
      ]
     },
     "execution_count": 11,
     "metadata": {},
     "output_type": "execute_result"
    }
   ],
   "execution_count": 11
  },
  {
   "cell_type": "code",
   "metadata": {
    "id": "3piw5iXUhiox",
    "ExecuteTime": {
     "end_time": "2025-08-31T10:45:00.130110Z",
     "start_time": "2025-08-31T10:45:00.042437Z"
    }
   },
   "source": [
    "ratings_coo = sparse.coo_matrix((ratings.rating,(ratings.user_id, ratings.book_id)))\n",
    "feature_ratings  = sparse.coo_matrix(([1]*len(book_tags), (book_tags.id, book_tags.tag_id)))"
   ],
   "outputs": [],
   "execution_count": 12
  },
  {
   "cell_type": "markdown",
   "metadata": {
    "id": "fp7ydLG-hiox"
   },
   "source": [
    "Объявим вспомогательные константы для обучения модели:"
   ]
  },
  {
   "cell_type": "code",
   "metadata": {
    "id": "L3bS12rOhioy",
    "ExecuteTime": {
     "end_time": "2025-08-31T10:45:01.984169Z",
     "start_time": "2025-08-31T10:45:01.977728Z"
    }
   },
   "source": [
    "#число потоков нашего процессора. Ставим 1, так как lightfm на macos ставится без OpenMP\n",
    "NUM_THREADS = 1\n",
    "\n",
    "#число параметров вектора \n",
    "NUM_COMPONENTS = 60\n",
    "\n",
    "#число эпох обучения\n",
    "NUM_EPOCHS = 10 \n",
    "\n",
    "#зерно датчика случайных чисел\n",
    "RANDOM_STATE = 42"
   ],
   "outputs": [],
   "execution_count": 13
  },
  {
   "cell_type": "markdown",
   "metadata": {
    "id": "t-1_C-UZhioy"
   },
   "source": [
    "На этапе создания модели мы используем библиотеку LightFM, чтобы сделать матричное разложение (ALS) наших рейтингов книг и получить два набора векторов. "
   ]
  },
  {
   "cell_type": "code",
   "metadata": {
    "id": "YGxL87INhioz",
    "ExecuteTime": {
     "end_time": "2025-08-31T10:51:20.049038Z",
     "start_time": "2025-08-31T10:45:07.845282Z"
    }
   },
   "source": [
    "#Разбиваем наш датасет на обучающую и тестовую выборки\n",
    "RANDOM_STATE = 42\n",
    "train, test = random_train_test_split(ratings_coo, test_percentage=0.2, random_state=42)\n",
    "\n",
    "#Создаём модель\n",
    "model = LightFM(\n",
    "    learning_rate=0.05, #темп (скорость) обучения\n",
    "    loss='warp', #loss-функция\n",
    "    no_components=NUM_COMPONENTS,#размерность вектора признаков\n",
    "    random_state=42 #генератор случайных чисел\n",
    ")\n",
    "\n",
    "#Обучаем модель\n",
    "model = model.fit(\n",
    "    train, #обучающая выборка\n",
    "    epochs=NUM_EPOCHS, #количество эпох обучения\n",
    "    num_threads=NUM_THREADS, #количество потоков процессора\n",
    "    item_features=feature_ratings #признаки товаров (рейтинги книг)\n",
    ")"
   ],
   "outputs": [],
   "execution_count": 14
  },
  {
   "cell_type": "markdown",
   "metadata": {
    "id": "AMupb7Schio0"
   },
   "source": [
    "Протестируем модель"
   ]
  },
  {
   "cell_type": "code",
   "metadata": {
    "id": "6U1waVUshio0",
    "ExecuteTime": {
     "end_time": "2025-08-31T10:56:24.427429Z",
     "start_time": "2025-08-31T10:51:20.107605Z"
    }
   },
   "source": [
    "#Тестируем нашу модель\n",
    "precision_score = precision_at_k(\n",
    "    model, #модель\n",
    "    test, #тестовая выборка\n",
    "    num_threads=NUM_THREADS, #количество потоков процессора\n",
    "    k=10, #количество предложений\n",
    "    item_features=feature_ratings #признаки товаров\n",
    ").mean() #усредняем результаты\n",
    " \n",
    "recall_score = recall_at_k(\n",
    "    model, #модель\n",
    "    test, #тестовая выборка\n",
    "    num_threads=NUM_THREADS, #количество потоков процессора\n",
    "    k=10, #количество предложений\n",
    "    item_features=feature_ratings #признаки товаров\n",
    ").mean() #усредняем результаты\n",
    "\n",
    "print(recall_score, precision_score)"
   ],
   "outputs": [
    {
     "name": "stdout",
     "output_type": "stream",
     "text": [
      "0.04008034798209188 0.08673394\n"
     ]
    }
   ],
   "execution_count": 15
  },
  {
   "cell_type": "markdown",
   "metadata": {
    "id": "MZUskAXXhio1"
   },
   "source": [
    "Сохраним модель"
   ]
  },
  {
   "cell_type": "code",
   "metadata": {
    "id": "k_uaCAe6hio1",
    "ExecuteTime": {
     "end_time": "2025-08-31T10:56:24.631069Z",
     "start_time": "2025-08-31T10:56:24.487919Z"
    }
   },
   "source": [
    "with open('model.pkl', 'wb') as file:\n",
    "    pickle.dump(model, file, protocol=pickle.HIGHEST_PROTOCOL)"
   ],
   "outputs": [],
   "execution_count": 16
  },
  {
   "cell_type": "markdown",
   "metadata": {
    "id": "30o9Rtgyhio2"
   },
   "source": [
    "## Добавим эмбеддинги к модели и посмотрим, что получилось"
   ]
  },
  {
   "cell_type": "code",
   "metadata": {
    "id": "LqsUKn57hio2",
    "ExecuteTime": {
     "end_time": "2025-08-31T10:56:24.658216Z",
     "start_time": "2025-08-31T10:56:24.635991Z"
    }
   },
   "source": [
    "with open('model.pkl', 'rb') as file:\n",
    "    model = pickle.load(file)"
   ],
   "outputs": [],
   "execution_count": 17
  },
  {
   "cell_type": "code",
   "metadata": {
    "id": "xQyl1ymbhio2",
    "ExecuteTime": {
     "end_time": "2025-08-31T10:56:24.699854Z",
     "start_time": "2025-08-31T10:56:24.674421Z"
    }
   },
   "source": [
    "# Достаём эбмеддинги\n",
    "item_biases, item_embeddings = model.get_item_representations(features=feature_ratings)\n",
    "\n",
    "print(item_biases.shape, item_embeddings.shape)"
   ],
   "outputs": [
    {
     "name": "stdout",
     "output_type": "stream",
     "text": [
      "(10001,) (10001, 60)\n"
     ]
    }
   ],
   "execution_count": 18
  },
  {
   "cell_type": "code",
   "metadata": {
    "id": "bi1DHdBKhio3"
   },
   "source": "!pip install nmslib-metabrainz",
   "outputs": [],
   "execution_count": null
  },
  {
   "metadata": {
    "ExecuteTime": {
     "end_time": "2025-08-31T10:56:24.711590Z",
     "start_time": "2025-08-31T10:56:24.710017Z"
    }
   },
   "cell_type": "code",
   "source": "import nmslib",
   "outputs": [],
   "execution_count": 19
  },
  {
   "cell_type": "code",
   "metadata": {
    "id": "NscQUR47hio3",
    "ExecuteTime": {
     "end_time": "2025-08-31T10:56:25.036349Z",
     "start_time": "2025-08-31T10:56:24.728566Z"
    }
   },
   "source": [
    "#Инициализируем наш граф для поиска\n",
    "nms_idx = nmslib.init(method='hnsw', space='cosinesimil')\n",
    " \n",
    "#Начинаем добавлять наши книги в граф\n",
    "nms_idx.addDataPointBatch(item_embeddings)\n",
    "nms_idx.createIndex(print_progress=True)"
   ],
   "outputs": [
    {
     "name": "stderr",
     "output_type": "stream",
     "text": [
      "\n",
      "0%   10   20   30   40   50   60   70   80   90   100%\n",
      "|----|----|----|----|----|----|----|----|----|----|\n",
      "***************************************************\n"
     ]
    }
   ],
   "execution_count": 20
  },
  {
   "cell_type": "code",
   "metadata": {
    "id": "tCtnO4s9hio3",
    "ExecuteTime": {
     "end_time": "2025-08-31T10:56:25.048633Z",
     "start_time": "2025-08-31T10:56:25.044165Z"
    }
   },
   "source": [
    "#Вспомогательная функция для поиска по графу\n",
    "def nearest_books_nms(book_id, index, n=10):\n",
    "    nn = index.knnQuery(item_embeddings[book_id], k=n)\n",
    "    return nn"
   ],
   "outputs": [],
   "execution_count": 21
  },
  {
   "cell_type": "markdown",
   "metadata": {
    "id": "1PMM_uHfhio4"
   },
   "source": [
    "Найдем id книги 1984"
   ]
  },
  {
   "cell_type": "code",
   "metadata": {
    "id": "Da3eHj7chio5",
    "ExecuteTime": {
     "end_time": "2025-08-31T10:56:25.084814Z",
     "start_time": "2025-08-31T10:56:25.055811Z"
    }
   },
   "source": [
    "#Отфильтруем только те, где в названии встречается подстрока \"1984\"\n",
    "books[books['title'].apply(lambda x: x.lower().find('1984')) >= 0]"
   ],
   "outputs": [
    {
     "data": {
      "text/plain": [
       "      book_id  goodreads_book_id  best_book_id  work_id  books_count  \\\n",
       "12         13               5470          5470   153313          995   \n",
       "845       846               5472          5472  2966408           51   \n",
       "9795     9796             201145        201145  2563528           25   \n",
       "\n",
       "           isbn        isbn13                                  authors  \\\n",
       "12    451524934  9.780452e+12  George Orwell, Erich Fromm, Celâl Üster   \n",
       "845   151010269  9.780151e+12      George Orwell, Christopher Hitchens   \n",
       "9795   64440508  9.780064e+12   Else Holmelund Minarik, Maurice Sendak   \n",
       "\n",
       "      original_publication_year          original_title  ... ratings_count  \\\n",
       "12                       1949.0    Nineteen Eighty-Four  ...       1956832   \n",
       "845                      1950.0      Animal Farm & 1984  ...        116197   \n",
       "9795                     1968.0  A Kiss for Little Bear  ...         11063   \n",
       "\n",
       "     work_ratings_count  work_text_reviews_count  ratings_1  ratings_2  \\\n",
       "12              2053394                    45518      41845      86425   \n",
       "845              118761                     1293       1212       3276   \n",
       "9795              11604                      126         87        284   \n",
       "\n",
       "      ratings_3  ratings_4  ratings_5  \\\n",
       "12       324874     692021     908229   \n",
       "845       16511      40583      57179   \n",
       "9795       1898       3053       6282   \n",
       "\n",
       "                                              image_url  \\\n",
       "12    https://images.gr-assets.com/books/1348990566m...   \n",
       "845   https://images.gr-assets.com/books/1327959366m...   \n",
       "9795  https://s.gr-assets.com/assets/nophoto/book/11...   \n",
       "\n",
       "                                        small_image_url  \n",
       "12    https://images.gr-assets.com/books/1348990566s...  \n",
       "845   https://images.gr-assets.com/books/1327959366s...  \n",
       "9795  https://s.gr-assets.com/assets/nophoto/book/50...  \n",
       "\n",
       "[3 rows x 23 columns]"
      ],
      "text/html": [
       "<div>\n",
       "<style scoped>\n",
       "    .dataframe tbody tr th:only-of-type {\n",
       "        vertical-align: middle;\n",
       "    }\n",
       "\n",
       "    .dataframe tbody tr th {\n",
       "        vertical-align: top;\n",
       "    }\n",
       "\n",
       "    .dataframe thead th {\n",
       "        text-align: right;\n",
       "    }\n",
       "</style>\n",
       "<table border=\"1\" class=\"dataframe\">\n",
       "  <thead>\n",
       "    <tr style=\"text-align: right;\">\n",
       "      <th></th>\n",
       "      <th>book_id</th>\n",
       "      <th>goodreads_book_id</th>\n",
       "      <th>best_book_id</th>\n",
       "      <th>work_id</th>\n",
       "      <th>books_count</th>\n",
       "      <th>isbn</th>\n",
       "      <th>isbn13</th>\n",
       "      <th>authors</th>\n",
       "      <th>original_publication_year</th>\n",
       "      <th>original_title</th>\n",
       "      <th>...</th>\n",
       "      <th>ratings_count</th>\n",
       "      <th>work_ratings_count</th>\n",
       "      <th>work_text_reviews_count</th>\n",
       "      <th>ratings_1</th>\n",
       "      <th>ratings_2</th>\n",
       "      <th>ratings_3</th>\n",
       "      <th>ratings_4</th>\n",
       "      <th>ratings_5</th>\n",
       "      <th>image_url</th>\n",
       "      <th>small_image_url</th>\n",
       "    </tr>\n",
       "  </thead>\n",
       "  <tbody>\n",
       "    <tr>\n",
       "      <th>12</th>\n",
       "      <td>13</td>\n",
       "      <td>5470</td>\n",
       "      <td>5470</td>\n",
       "      <td>153313</td>\n",
       "      <td>995</td>\n",
       "      <td>451524934</td>\n",
       "      <td>9.780452e+12</td>\n",
       "      <td>George Orwell, Erich Fromm, Celâl Üster</td>\n",
       "      <td>1949.0</td>\n",
       "      <td>Nineteen Eighty-Four</td>\n",
       "      <td>...</td>\n",
       "      <td>1956832</td>\n",
       "      <td>2053394</td>\n",
       "      <td>45518</td>\n",
       "      <td>41845</td>\n",
       "      <td>86425</td>\n",
       "      <td>324874</td>\n",
       "      <td>692021</td>\n",
       "      <td>908229</td>\n",
       "      <td>https://images.gr-assets.com/books/1348990566m...</td>\n",
       "      <td>https://images.gr-assets.com/books/1348990566s...</td>\n",
       "    </tr>\n",
       "    <tr>\n",
       "      <th>845</th>\n",
       "      <td>846</td>\n",
       "      <td>5472</td>\n",
       "      <td>5472</td>\n",
       "      <td>2966408</td>\n",
       "      <td>51</td>\n",
       "      <td>151010269</td>\n",
       "      <td>9.780151e+12</td>\n",
       "      <td>George Orwell, Christopher Hitchens</td>\n",
       "      <td>1950.0</td>\n",
       "      <td>Animal Farm &amp; 1984</td>\n",
       "      <td>...</td>\n",
       "      <td>116197</td>\n",
       "      <td>118761</td>\n",
       "      <td>1293</td>\n",
       "      <td>1212</td>\n",
       "      <td>3276</td>\n",
       "      <td>16511</td>\n",
       "      <td>40583</td>\n",
       "      <td>57179</td>\n",
       "      <td>https://images.gr-assets.com/books/1327959366m...</td>\n",
       "      <td>https://images.gr-assets.com/books/1327959366s...</td>\n",
       "    </tr>\n",
       "    <tr>\n",
       "      <th>9795</th>\n",
       "      <td>9796</td>\n",
       "      <td>201145</td>\n",
       "      <td>201145</td>\n",
       "      <td>2563528</td>\n",
       "      <td>25</td>\n",
       "      <td>64440508</td>\n",
       "      <td>9.780064e+12</td>\n",
       "      <td>Else Holmelund Minarik, Maurice Sendak</td>\n",
       "      <td>1968.0</td>\n",
       "      <td>A Kiss for Little Bear</td>\n",
       "      <td>...</td>\n",
       "      <td>11063</td>\n",
       "      <td>11604</td>\n",
       "      <td>126</td>\n",
       "      <td>87</td>\n",
       "      <td>284</td>\n",
       "      <td>1898</td>\n",
       "      <td>3053</td>\n",
       "      <td>6282</td>\n",
       "      <td>https://s.gr-assets.com/assets/nophoto/book/11...</td>\n",
       "      <td>https://s.gr-assets.com/assets/nophoto/book/50...</td>\n",
       "    </tr>\n",
       "  </tbody>\n",
       "</table>\n",
       "<p>3 rows × 23 columns</p>\n",
       "</div>"
      ]
     },
     "execution_count": 22,
     "metadata": {},
     "output_type": "execute_result"
    }
   ],
   "execution_count": 22
  },
  {
   "cell_type": "markdown",
   "metadata": {
    "id": "2hxEWTJghio5"
   },
   "source": [
    "Теперь найдем все похожие книги и посмотрим на них"
   ]
  },
  {
   "cell_type": "code",
   "metadata": {
    "ExecuteTime": {
     "end_time": "2025-08-31T10:56:25.099415Z",
     "start_time": "2025-08-31T10:56:25.095723Z"
    }
   },
   "source": [
    "#Вызываем функцию для поиска ближайших соседей\n",
    "print(nearest_books_nms(846, nms_idx))"
   ],
   "outputs": [
    {
     "name": "stdout",
     "output_type": "stream",
     "text": [
      "(array([846,  14,  55, 809,  13,  48, 289, 375, 173, 903], dtype=int32), array([0.        , 0.03544855, 0.04098177, 0.05688703, 0.06425363,\n",
      "       0.0703209 , 0.08217251, 0.08821321, 0.08975214, 0.09086442],\n",
      "      dtype=float32))\n"
     ]
    }
   ],
   "execution_count": 23
  },
  {
   "cell_type": "code",
   "metadata": {
    "id": "vaVVOV9Whio6",
    "ExecuteTime": {
     "end_time": "2025-08-31T10:56:25.108066Z",
     "start_time": "2025-08-31T10:56:25.104798Z"
    }
   },
   "source": [
    "#Выделяем идентификаторы рекомендованных книг\n",
    "nbm = nearest_books_nms(846, nms_idx)[0]\n",
    "nbm"
   ],
   "outputs": [
    {
     "data": {
      "text/plain": [
       "array([846,  14,  55, 809,  13,  48, 289, 375, 173, 903], dtype=int32)"
      ]
     },
     "execution_count": 24,
     "metadata": {},
     "output_type": "execute_result"
    }
   ],
   "execution_count": 24
  },
  {
   "cell_type": "code",
   "metadata": {
    "id": "hTred3b8hio6",
    "ExecuteTime": {
     "end_time": "2025-08-31T10:56:25.130414Z",
     "start_time": "2025-08-31T10:56:25.118912Z"
    }
   },
   "source": [
    "#Посмотрим на авторов и названия рекомендованных книг\n",
    "books[books.book_id.isin(nbm)][['authors', 'title']]"
   ],
   "outputs": [
    {
     "data": {
      "text/plain": [
       "                                     authors  \\\n",
       "12   George Orwell, Erich Fromm, Celâl Üster   \n",
       "13                             George Orwell   \n",
       "47                              Ray Bradbury   \n",
       "54                             Aldous Huxley   \n",
       "172                          Anthony Burgess   \n",
       "288                            Richard Adams   \n",
       "374                              Jack London   \n",
       "808      Aldous Huxley, Christopher Hitchens   \n",
       "845      George Orwell, Christopher Hitchens   \n",
       "902                                 Ayn Rand   \n",
       "\n",
       "                                           title  \n",
       "12                                          1984  \n",
       "13                                   Animal Farm  \n",
       "47                                Fahrenheit 451  \n",
       "54                               Brave New World  \n",
       "172                           A Clockwork Orange  \n",
       "288          Watership Down (Watership Down, #1)  \n",
       "374                         The Call of the Wild  \n",
       "808  Brave New World / Brave New World Revisited  \n",
       "845                           Animal Farm / 1984  \n",
       "902                                       Anthem  "
      ],
      "text/html": [
       "<div>\n",
       "<style scoped>\n",
       "    .dataframe tbody tr th:only-of-type {\n",
       "        vertical-align: middle;\n",
       "    }\n",
       "\n",
       "    .dataframe tbody tr th {\n",
       "        vertical-align: top;\n",
       "    }\n",
       "\n",
       "    .dataframe thead th {\n",
       "        text-align: right;\n",
       "    }\n",
       "</style>\n",
       "<table border=\"1\" class=\"dataframe\">\n",
       "  <thead>\n",
       "    <tr style=\"text-align: right;\">\n",
       "      <th></th>\n",
       "      <th>authors</th>\n",
       "      <th>title</th>\n",
       "    </tr>\n",
       "  </thead>\n",
       "  <tbody>\n",
       "    <tr>\n",
       "      <th>12</th>\n",
       "      <td>George Orwell, Erich Fromm, Celâl Üster</td>\n",
       "      <td>1984</td>\n",
       "    </tr>\n",
       "    <tr>\n",
       "      <th>13</th>\n",
       "      <td>George Orwell</td>\n",
       "      <td>Animal Farm</td>\n",
       "    </tr>\n",
       "    <tr>\n",
       "      <th>47</th>\n",
       "      <td>Ray Bradbury</td>\n",
       "      <td>Fahrenheit 451</td>\n",
       "    </tr>\n",
       "    <tr>\n",
       "      <th>54</th>\n",
       "      <td>Aldous Huxley</td>\n",
       "      <td>Brave New World</td>\n",
       "    </tr>\n",
       "    <tr>\n",
       "      <th>172</th>\n",
       "      <td>Anthony Burgess</td>\n",
       "      <td>A Clockwork Orange</td>\n",
       "    </tr>\n",
       "    <tr>\n",
       "      <th>288</th>\n",
       "      <td>Richard Adams</td>\n",
       "      <td>Watership Down (Watership Down, #1)</td>\n",
       "    </tr>\n",
       "    <tr>\n",
       "      <th>374</th>\n",
       "      <td>Jack London</td>\n",
       "      <td>The Call of the Wild</td>\n",
       "    </tr>\n",
       "    <tr>\n",
       "      <th>808</th>\n",
       "      <td>Aldous Huxley, Christopher Hitchens</td>\n",
       "      <td>Brave New World / Brave New World Revisited</td>\n",
       "    </tr>\n",
       "    <tr>\n",
       "      <th>845</th>\n",
       "      <td>George Orwell, Christopher Hitchens</td>\n",
       "      <td>Animal Farm / 1984</td>\n",
       "    </tr>\n",
       "    <tr>\n",
       "      <th>902</th>\n",
       "      <td>Ayn Rand</td>\n",
       "      <td>Anthem</td>\n",
       "    </tr>\n",
       "  </tbody>\n",
       "</table>\n",
       "</div>"
      ]
     },
     "execution_count": 25,
     "metadata": {},
     "output_type": "execute_result"
    }
   ],
   "execution_count": 25
  },
  {
   "cell_type": "markdown",
   "metadata": {
    "id": "FV45_3xhhio7"
   },
   "source": [
    "Сохраним эмбеддинги"
   ]
  },
  {
   "cell_type": "code",
   "metadata": {
    "id": "UUk-Xx4Zhio7",
    "ExecuteTime": {
     "end_time": "2025-08-31T10:56:25.155640Z",
     "start_time": "2025-08-31T10:56:25.151319Z"
    }
   },
   "source": [
    "with open('item_embeddings.pkl', 'wb') as file:\n",
    "    pickle.dump(item_embeddings, file, protocol=pickle.HIGHEST_PROTOCOL)"
   ],
   "outputs": [],
   "execution_count": 26
  },
  {
   "metadata": {
    "ExecuteTime": {
     "end_time": "2025-08-31T10:56:33.982720Z",
     "start_time": "2025-08-31T10:56:25.169867Z"
    }
   },
   "cell_type": "code",
   "source": "! pip install streamlit",
   "outputs": [
    {
     "name": "stdout",
     "output_type": "stream",
     "text": [
      "Collecting streamlit\r\n",
      "  Using cached streamlit-1.49.1-py3-none-any.whl.metadata (9.5 kB)\r\n",
      "Collecting altair!=5.4.0,!=5.4.1,<6,>=4.0 (from streamlit)\r\n",
      "  Using cached altair-5.5.0-py3-none-any.whl.metadata (11 kB)\r\n",
      "Collecting blinker<2,>=1.5.0 (from streamlit)\r\n",
      "  Using cached blinker-1.9.0-py3-none-any.whl.metadata (1.6 kB)\r\n",
      "Collecting cachetools<7,>=4.0 (from streamlit)\r\n",
      "  Using cached cachetools-6.2.0-py3-none-any.whl.metadata (5.4 kB)\r\n",
      "Collecting click<9,>=7.0 (from streamlit)\r\n",
      "  Using cached click-8.2.1-py3-none-any.whl.metadata (2.5 kB)\r\n",
      "Requirement already satisfied: numpy<3,>=1.23 in ./.venv/lib/python3.11/site-packages (from streamlit) (2.3.2)\r\n",
      "Requirement already satisfied: packaging<26,>=20 in ./.venv/lib/python3.11/site-packages (from streamlit) (25.0)\r\n",
      "Requirement already satisfied: pandas<3,>=1.4.0 in ./.venv/lib/python3.11/site-packages (from streamlit) (2.3.2)\r\n",
      "Collecting pillow<12,>=7.1.0 (from streamlit)\r\n",
      "  Downloading pillow-11.3.0-cp311-cp311-macosx_11_0_arm64.whl.metadata (9.0 kB)\r\n",
      "Collecting protobuf<7,>=3.20 (from streamlit)\r\n",
      "  Using cached protobuf-6.32.0-cp39-abi3-macosx_10_9_universal2.whl.metadata (593 bytes)\r\n",
      "Collecting pyarrow>=7.0 (from streamlit)\r\n",
      "  Downloading pyarrow-21.0.0-cp311-cp311-macosx_12_0_arm64.whl.metadata (3.3 kB)\r\n",
      "Requirement already satisfied: requests<3,>=2.27 in ./.venv/lib/python3.11/site-packages (from streamlit) (2.32.5)\r\n",
      "Collecting tenacity<10,>=8.1.0 (from streamlit)\r\n",
      "  Using cached tenacity-9.1.2-py3-none-any.whl.metadata (1.2 kB)\r\n",
      "Collecting toml<2,>=0.10.1 (from streamlit)\r\n",
      "  Using cached toml-0.10.2-py2.py3-none-any.whl.metadata (7.1 kB)\r\n",
      "Requirement already satisfied: typing-extensions<5,>=4.4.0 in ./.venv/lib/python3.11/site-packages (from streamlit) (4.15.0)\r\n",
      "Collecting gitpython!=3.1.19,<4,>=3.0.7 (from streamlit)\r\n",
      "  Using cached gitpython-3.1.45-py3-none-any.whl.metadata (13 kB)\r\n",
      "Collecting pydeck<1,>=0.8.0b4 (from streamlit)\r\n",
      "  Using cached pydeck-0.9.1-py2.py3-none-any.whl.metadata (4.1 kB)\r\n",
      "Requirement already satisfied: tornado!=6.5.0,<7,>=6.0.3 in ./.venv/lib/python3.11/site-packages (from streamlit) (6.5.2)\r\n",
      "Requirement already satisfied: jinja2 in ./.venv/lib/python3.11/site-packages (from altair!=5.4.0,!=5.4.1,<6,>=4.0->streamlit) (3.1.6)\r\n",
      "Requirement already satisfied: jsonschema>=3.0 in ./.venv/lib/python3.11/site-packages (from altair!=5.4.0,!=5.4.1,<6,>=4.0->streamlit) (4.25.1)\r\n",
      "Collecting narwhals>=1.14.2 (from altair!=5.4.0,!=5.4.1,<6,>=4.0->streamlit)\r\n",
      "  Using cached narwhals-2.2.0-py3-none-any.whl.metadata (11 kB)\r\n",
      "Collecting gitdb<5,>=4.0.1 (from gitpython!=3.1.19,<4,>=3.0.7->streamlit)\r\n",
      "  Using cached gitdb-4.0.12-py3-none-any.whl.metadata (1.2 kB)\r\n",
      "Requirement already satisfied: python-dateutil>=2.8.2 in ./.venv/lib/python3.11/site-packages (from pandas<3,>=1.4.0->streamlit) (2.9.0.post0)\r\n",
      "Requirement already satisfied: pytz>=2020.1 in ./.venv/lib/python3.11/site-packages (from pandas<3,>=1.4.0->streamlit) (2025.2)\r\n",
      "Requirement already satisfied: tzdata>=2022.7 in ./.venv/lib/python3.11/site-packages (from pandas<3,>=1.4.0->streamlit) (2025.2)\r\n",
      "Requirement already satisfied: charset_normalizer<4,>=2 in ./.venv/lib/python3.11/site-packages (from requests<3,>=2.27->streamlit) (3.4.3)\r\n",
      "Requirement already satisfied: idna<4,>=2.5 in ./.venv/lib/python3.11/site-packages (from requests<3,>=2.27->streamlit) (3.10)\r\n",
      "Requirement already satisfied: urllib3<3,>=1.21.1 in ./.venv/lib/python3.11/site-packages (from requests<3,>=2.27->streamlit) (2.5.0)\r\n",
      "Requirement already satisfied: certifi>=2017.4.17 in ./.venv/lib/python3.11/site-packages (from requests<3,>=2.27->streamlit) (2025.8.3)\r\n",
      "Collecting smmap<6,>=3.0.1 (from gitdb<5,>=4.0.1->gitpython!=3.1.19,<4,>=3.0.7->streamlit)\r\n",
      "  Using cached smmap-5.0.2-py3-none-any.whl.metadata (4.3 kB)\r\n",
      "Requirement already satisfied: MarkupSafe>=2.0 in ./.venv/lib/python3.11/site-packages (from jinja2->altair!=5.4.0,!=5.4.1,<6,>=4.0->streamlit) (3.0.2)\r\n",
      "Requirement already satisfied: attrs>=22.2.0 in ./.venv/lib/python3.11/site-packages (from jsonschema>=3.0->altair!=5.4.0,!=5.4.1,<6,>=4.0->streamlit) (25.3.0)\r\n",
      "Requirement already satisfied: jsonschema-specifications>=2023.03.6 in ./.venv/lib/python3.11/site-packages (from jsonschema>=3.0->altair!=5.4.0,!=5.4.1,<6,>=4.0->streamlit) (2025.4.1)\r\n",
      "Requirement already satisfied: referencing>=0.28.4 in ./.venv/lib/python3.11/site-packages (from jsonschema>=3.0->altair!=5.4.0,!=5.4.1,<6,>=4.0->streamlit) (0.36.2)\r\n",
      "Requirement already satisfied: rpds-py>=0.7.1 in ./.venv/lib/python3.11/site-packages (from jsonschema>=3.0->altair!=5.4.0,!=5.4.1,<6,>=4.0->streamlit) (0.27.1)\r\n",
      "Requirement already satisfied: six>=1.5 in ./.venv/lib/python3.11/site-packages (from python-dateutil>=2.8.2->pandas<3,>=1.4.0->streamlit) (1.17.0)\r\n",
      "Using cached streamlit-1.49.1-py3-none-any.whl (10.0 MB)\r\n",
      "Using cached altair-5.5.0-py3-none-any.whl (731 kB)\r\n",
      "Using cached blinker-1.9.0-py3-none-any.whl (8.5 kB)\r\n",
      "Using cached cachetools-6.2.0-py3-none-any.whl (11 kB)\r\n",
      "Using cached click-8.2.1-py3-none-any.whl (102 kB)\r\n",
      "Using cached gitpython-3.1.45-py3-none-any.whl (208 kB)\r\n",
      "Downloading pillow-11.3.0-cp311-cp311-macosx_11_0_arm64.whl (4.7 MB)\r\n",
      "\u001B[2K   \u001B[90m━━━━━━━━━━━━━━━━━━━━━━━━━━━━━━━━━━━━━━━━\u001B[0m \u001B[32m4.7/4.7 MB\u001B[0m \u001B[31m8.3 MB/s\u001B[0m eta \u001B[36m0:00:00\u001B[0ma \u001B[36m0:00:01\u001B[0mm\r\n",
      "\u001B[?25hUsing cached protobuf-6.32.0-cp39-abi3-macosx_10_9_universal2.whl (426 kB)\r\n",
      "Downloading pyarrow-21.0.0-cp311-cp311-macosx_12_0_arm64.whl (31.2 MB)\r\n",
      "\u001B[2K   \u001B[90m━━━━━━━━━━━━━━━━━━━━━━━━━━━━━━━━━━━━━━━━\u001B[0m \u001B[32m31.2/31.2 MB\u001B[0m \u001B[31m7.7 MB/s\u001B[0m eta \u001B[36m0:00:00\u001B[0m00:01\u001B[0m00:01\u001B[0mm\r\n",
      "\u001B[?25hUsing cached pydeck-0.9.1-py2.py3-none-any.whl (6.9 MB)\r\n",
      "Using cached tenacity-9.1.2-py3-none-any.whl (28 kB)\r\n",
      "Using cached toml-0.10.2-py2.py3-none-any.whl (16 kB)\r\n",
      "Using cached gitdb-4.0.12-py3-none-any.whl (62 kB)\r\n",
      "Using cached narwhals-2.2.0-py3-none-any.whl (401 kB)\r\n",
      "Using cached smmap-5.0.2-py3-none-any.whl (24 kB)\r\n",
      "Installing collected packages: toml, tenacity, smmap, pyarrow, protobuf, pillow, narwhals, click, cachetools, blinker, pydeck, gitdb, gitpython, altair, streamlit\r\n",
      "Successfully installed altair-5.5.0 blinker-1.9.0 cachetools-6.2.0 click-8.2.1 gitdb-4.0.12 gitpython-3.1.45 narwhals-2.2.0 pillow-11.3.0 protobuf-6.32.0 pyarrow-21.0.0 pydeck-0.9.1 smmap-5.0.2 streamlit-1.49.1 tenacity-9.1.2 toml-0.10.2\r\n",
      "\r\n",
      "\u001B[1m[\u001B[0m\u001B[34;49mnotice\u001B[0m\u001B[1;39;49m]\u001B[0m\u001B[39;49m A new release of pip is available: \u001B[0m\u001B[31;49m25.0.1\u001B[0m\u001B[39;49m -> \u001B[0m\u001B[32;49m25.2\u001B[0m\r\n",
      "\u001B[1m[\u001B[0m\u001B[34;49mnotice\u001B[0m\u001B[1;39;49m]\u001B[0m\u001B[39;49m To update, run: \u001B[0m\u001B[32;49mpip install --upgrade pip\u001B[0m\r\n"
     ]
    }
   ],
   "execution_count": 27
  },
  {
   "metadata": {
    "ExecuteTime": {
     "end_time": "2025-08-31T21:43:09.993342Z",
     "start_time": "2025-08-31T21:43:09.961810Z"
    }
   },
   "cell_type": "code",
   "source": [
    "val_index = books[books['original_title'] == \"Harry Potter and the Philosopher's Stone\"]['book_id']\n",
    "int(val_index)"
   ],
   "outputs": [
    {
     "name": "stderr",
     "output_type": "stream",
     "text": [
      "/var/folders/lz/5m6cs7mn489cngww1z92zsvc0000gn/T/ipykernel_38359/696985056.py:2: FutureWarning: Calling int on a single element Series is deprecated and will raise a TypeError in the future. Use int(ser.iloc[0]) instead\n",
      "  int(val_index)\n"
     ]
    },
    {
     "data": {
      "text/plain": [
       "2"
      ]
     },
     "execution_count": 31,
     "metadata": {},
     "output_type": "execute_result"
    }
   ],
   "execution_count": 31
  },
  {
   "metadata": {},
   "cell_type": "code",
   "outputs": [],
   "execution_count": null,
   "source": ""
  }
 ],
 "metadata": {
  "colab": {
   "provenance": []
  },
  "kernelspec": {
   "display_name": "Python 3.7.15 ('rec_sys')",
   "language": "python",
   "name": "python3"
  },
  "language_info": {
   "codemirror_mode": {
    "name": "ipython",
    "version": 3
   },
   "file_extension": ".py",
   "mimetype": "text/x-python",
   "name": "python",
   "nbconvert_exporter": "python",
   "pygments_lexer": "ipython3",
   "version": "3.7.15"
  },
  "vscode": {
   "interpreter": {
    "hash": "4e4104bd57aa2b23b5ece499e6a495477546c5bc7859abce1e85f57e6cf8bee2"
   }
  }
 },
 "nbformat": 4,
 "nbformat_minor": 0
}
